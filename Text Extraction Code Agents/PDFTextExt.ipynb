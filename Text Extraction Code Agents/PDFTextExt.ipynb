{
 "cells": [
  {
   "cell_type": "code",
   "execution_count": null,
   "id": "462f4e41",
   "metadata": {},
   "outputs": [],
   "source": [
    "import warnings\n",
    "warnings.filterwarnings('ignore')"
   ]
  },
  {
   "cell_type": "code",
   "execution_count": null,
   "id": "1da5e1d8",
   "metadata": {},
   "outputs": [],
   "source": [
    "from crewai import Agent, Crew, Task\n",
    "from crewai_tools import VisionTool\n",
    "import os\n",
    "from dotenv import load_dotenv\n",
    "\n",
    "load_dotenv()"
   ]
  },
  {
   "cell_type": "code",
   "execution_count": null,
   "id": "90250aa3",
   "metadata": {},
   "outputs": [],
   "source": [
    "os.environ[\"OPENAI_MODEL_NAME\"] = os.getenv('MODEL')\n",
    "os.environ[\"OPENAI_API_KEY\"] = os.getenv('OPENAI_API_KEY')\n",
    "# print(os.getenv('OPENAI_API_KEY'))\n",
    "# print(os.getenv('MODEL'))"
   ]
  },
  {
   "cell_type": "code",
   "execution_count": null,
   "id": "3f5fc06e",
   "metadata": {},
   "outputs": [],
   "source": [
    "from PDFTextExtractionCode import PDFTextExtractionTool  # Adjust module path as needed\n",
    "\n",
    "# Instantiate your custom PDF tool\n",
    "pdf_tool = PDFTextExtractionTool(\n",
    "    pdf_path=\"write your path here\",\n",
    "    baseline_schema_path=\"write baseline json schema path here\"\n",
    ")"
   ]
  },
  {
   "cell_type": "code",
   "execution_count": null,
   "id": "2c715473",
   "metadata": {},
   "outputs": [],
   "source": [
    "import os\n",
    "\n",
    "print(os.path.exists(\"write your path here\"))  # Should return True\n",
    "print(os.path.exists(\"write baseline json schema path here\"))  # Should return True"
   ]
  },
  {
   "cell_type": "code",
   "execution_count": null,
   "id": "fc5ef3e9",
   "metadata": {},
   "outputs": [],
   "source": [
    "pdf_path=\"write your path here\"\n",
    "# output_folder=\"D:\\\\AI Agents\\\\Images\"\n",
    "# max_image_size=1024\n",
    "baseline_schema_path=\"write baseline json schema path here\"    "
   ]
  },
  {
   "cell_type": "code",
   "execution_count": null,
   "id": "7366a721",
   "metadata": {},
   "outputs": [],
   "source": [
    "text_extraction_agent = Agent(\n",
    "    role=\"PDF Text Extraction Specialist\",\n",
    "    goal=\"Extract only text from a PDF ignoring the text inside any tables, images, shapes etc. and convert the results to a JSON object.\",\n",
    "    backstory=\"You are an agent who is expert in processing PDFs by extracting texts from the PDF {pdf_path}. You are renowned for your ability to extract text from PDFs and convert the extracted text to a JSON object using a predefined schema {predefined_schema}. You are an expert in using text extraction tools to extract text from PDFs. You are best in your field because you apply the most effective techniques to capture every text exactly as it appears.\",\n",
    "    allow_delegation=True,\n",
    "    verbose=True,\n",
    "    tools=[pdf_tool],\n",
    "    baseline_schema_path=\"D:\\\\AI Agents\\\\Custom Tools\\\\CustomTool PDF Text Extraction\\\\HDBFS_Text_json_schema.json\"  # Ensure this is provided\n",
    ")"
   ]
  },
  {
   "cell_type": "code",
   "execution_count": null,
   "id": "a0b36e89",
   "metadata": {},
   "outputs": [],
   "source": [
    "text_extraction_task = Task(\n",
    "    description=\"Process the provided PDF file to extract text and return a structured JSON object with the extracted text.\",\n",
    "    expected_output=\"A JSON object containing the extracted text\",\n",
    "    # expected_output=\"A JSON object containing the extracted text from PDF mapped with the {predefined_schema}.\",\n",
    "    output_file=\"extracted_text.json\",  # Optional: output file to store results\n",
    "    agent=text_extraction_agent,\n",
    "    tools=[pdf_tool]  # Ensure the tool is available for the task\n",
    ")"
   ]
  },
  {
   "cell_type": "code",
   "execution_count": null,
   "id": "886bd9ac",
   "metadata": {},
   "outputs": [],
   "source": [
    "pdf_crew = Crew(\n",
    "    agents=[text_extraction_agent],\n",
    "    tasks=[text_extraction_task],\n",
    "    verbose=True\n",
    ")"
   ]
  },
  {
   "cell_type": "code",
   "execution_count": null,
   "id": "a1bb6dbd",
   "metadata": {},
   "outputs": [],
   "source": [
    "text_details={\n",
    "    \"pdf_path\": pdf_path,\n",
    "    # \"images_path\": output_folder,\n",
    "    \"predefined_schema\": baseline_schema_path\n",
    "    # \"extracted_text\": \"extracted_text.json\"\n",
    "}"
   ]
  },
  {
   "cell_type": "code",
   "execution_count": null,
   "id": "0d4b8ef8",
   "metadata": {},
   "outputs": [],
   "source": [
    "result = pdf_crew.kickoff(inputs=text_details)"
   ]
  }
 ],
 "metadata": {
  "language_info": {
   "name": "python"
  }
 },
 "nbformat": 4,
 "nbformat_minor": 5
}
