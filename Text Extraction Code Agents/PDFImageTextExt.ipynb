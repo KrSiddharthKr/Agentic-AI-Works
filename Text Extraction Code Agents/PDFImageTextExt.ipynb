{
 "cells": [
  {
   "cell_type": "code",
   "execution_count": null,
   "id": "13493018",
   "metadata": {},
   "outputs": [],
   "source": [
    "import warnings\n",
    "warnings.filterwarnings('ignore')"
   ]
  },
  {
   "cell_type": "code",
   "execution_count": null,
   "id": "ae5e609f",
   "metadata": {},
   "outputs": [],
   "source": [
    "# from crewai import Agent, Crew, Task, LLM\n",
    "from crewai_tools import VisionTool\n",
    "import os\n",
    "from dotenv import load_dotenv\n",
    "\n",
    "load_dotenv()"
   ]
  },
  {
   "cell_type": "code",
   "execution_count": null,
   "id": "fa31a684",
   "metadata": {},
   "outputs": [],
   "source": [
    "os.environ[\"OPENAI_MODEL_NAME\"] = os.getenv('MODEL')\n",
    "os.environ[\"OPENAI_API_KEY\"] = os.getenv('OPENAI_API_KEY')"
   ]
  },
  {
   "cell_type": "code",
   "execution_count": null,
   "id": "8cd72359",
   "metadata": {},
   "outputs": [],
   "source": [
    "from PDFImageTextExtCode import PDFImageTextExtractionTool  # Adjust module path as needed\n",
    "\n",
    "# Instantiate your custom PDF tool\n",
    "pdf_tool = PDFImageTextExtractionTool(pdf_path=\"write your path here\",output_folder=\"write output folder path here\",max_image_size=1024,baseline_schema_path=\"write baseline json schema path here\")"
   ]
  },
  {
   "cell_type": "code",
   "execution_count": null,
   "id": "185b4f2f",
   "metadata": {},
   "outputs": [],
   "source": [
    "pdf_path=\"write your path here\"\n",
    "output_folder=\"write output folder path here\"\n",
    "max_image_size=1024\n",
    "predefined_schema=\"write baseline json schema path here\""
   ]
  },
  {
   "cell_type": "code",
   "execution_count": null,
   "id": "64d22a4b",
   "metadata": {},
   "outputs": [],
   "source": [
    "from crewai import Agent\n",
    "\n",
    "pdf_extraction_agent = Agent(\n",
    "    role=\"PDF Image Text Extraction Specialist\",\n",
    "    goal=\"Extract images and text from a PDF and convert the results to a JSON object using a predefined schema.\",\n",
    "    backstory=\"You are an agent who is expert in processing PDFs by extracting images from the PDF {pdf_path}, extracting images from the PDF, and extracting text from the images which is located here {images_path} using OCR. You are renowned for your ability to extract images from PDFs, extract text from images, and convert the extracted text to a JSON object using a predefined schema {predefined_schema}. You are an expert in using Optical Character Recognition (OCR) tools to extract text from images of any quality. You have utilized the best OCR tools and applied the most effective techniques to capture every detail of the image exactly as it appears.\",\n",
    "    \n",
    "    # performing OCR, and formatting the output as JSON. You are an expert in extracting text from images, renowned for your ability to provide the exact text content present in an image{image_url_path}. You never alter any information which you extracted from the image. You possess expertise in using Optical Character Recognition (OCR) tools to extract every detail of the text from images of any quality. You have utilized the best OCR tools and applied the most effective techniques to capture every detail of the image exactly as it appears.\",\n",
    "    allow_delegation=True,  # This lets the agent delegate if needed\n",
    "    verbose=True,\n",
    "    tools=[pdf_tool]  # Attach your custom tool here\n",
    ")\n"
   ]
  },
  {
   "cell_type": "code",
   "execution_count": null,
   "id": "262fa9e6",
   "metadata": {},
   "outputs": [],
   "source": [
    "from crewai import Task\n",
    "\n",
    "pdf_extraction_task = Task(\n",
    "    description=\"Process the provided PDF file to extract images, perform OCR, and return a JSON object with the extracted text.\",\n",
    "    expected_output=\"A JSON object containing the extracted text from PDF images.\",\n",
    "    output_file=\"extracted_image_text.json\",  # Optional: output file to store results\n",
    "    agent=pdf_extraction_agent,\n",
    "    tools=[pdf_tool]  # Ensure the tool is available for the task\n",
    ")\n"
   ]
  },
  {
   "cell_type": "code",
   "execution_count": null,
   "id": "7957982b",
   "metadata": {},
   "outputs": [],
   "source": [
    "from crewai import Crew\n",
    "\n",
    "pdf_crew = Crew(\n",
    "    agents=[pdf_extraction_agent],\n",
    "    tasks=[pdf_extraction_task],\n",
    "    verbose=True\n",
    ")\n"
   ]
  },
  {
   "cell_type": "code",
   "execution_count": null,
   "id": "bd3117fa",
   "metadata": {},
   "outputs": [],
   "source": [
    "text_details={\n",
    "    \"pdf_path\": pdf_path,\n",
    "    \"images_path\": output_folder,\n",
    "    \"predefined_schema\": predefined_schema\n",
    "    # \"extracted_text\": \"extracted_text.json\"\n",
    "}"
   ]
  },
  {
   "cell_type": "code",
   "execution_count": null,
   "id": "922a78b4",
   "metadata": {},
   "outputs": [],
   "source": [
    "result = pdf_crew.kickoff(inputs=text_details)\n",
    "print(result)"
   ]
  }
 ],
 "metadata": {
  "kernelspec": {
   "display_name": "Python 3",
   "language": "python",
   "name": "python3"
  },
  "language_info": {
   "name": "python",
   "version": "3.11.9"
  }
 },
 "nbformat": 4,
 "nbformat_minor": 5
}
