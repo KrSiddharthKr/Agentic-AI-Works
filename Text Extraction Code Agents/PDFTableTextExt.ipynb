{
 "cells": [
  {
   "cell_type": "code",
   "execution_count": null,
   "id": "b3a0ee81",
   "metadata": {},
   "outputs": [],
   "source": [
    "import warnings\n",
    "warnings.filterwarnings('ignore')"
   ]
  },
  {
   "cell_type": "code",
   "execution_count": null,
   "id": "a34292d4",
   "metadata": {},
   "outputs": [],
   "source": [
    "from crewai import Agent, Crew, Task\n",
    "import os\n",
    "from dotenv import load_dotenv\n",
    "\n",
    "load_dotenv()"
   ]
  },
  {
   "cell_type": "code",
   "execution_count": null,
   "id": "38e95dbf",
   "metadata": {},
   "outputs": [],
   "source": [
    "os.environ[\"OPENAI_MODEL_NAME\"] = os.getenv('MODEL')\n",
    "os.environ[\"OPENAI_API_KEY\"] = os.getenv('OPENAI_API_KEY')"
   ]
  },
  {
   "cell_type": "code",
   "execution_count": null,
   "id": "24841aea",
   "metadata": {},
   "outputs": [],
   "source": [
    "from PDFTableTextExtCode import PDFTableExtractionTool  # Adjust module path as needed\n",
    "\n",
    "# Instantiate your custom PDF tool\n",
    "pdf_tool = PDFTableExtractionTool(pdf_path=\"write your path here\", predefined_schema=\"write baseline json schema path here\")"
   ]
  },
  {
   "cell_type": "code",
   "execution_count": null,
   "id": "95eec406",
   "metadata": {},
   "outputs": [],
   "source": [
    "pdf_path = \"write your path here\"\n",
    "predefined_schema = \"write baseline json schema path here\""
   ]
  },
  {
   "cell_type": "code",
   "execution_count": null,
   "id": "42243f08",
   "metadata": {},
   "outputs": [],
   "source": [
    "table_text_extraction_agent = Agent(\n",
    "    role=\"PDF Text from Tables Extraction Specialist\",\n",
    "    goal=\"Extract only text from tables from a PDF ignoring the text outside the tables and inside any images, and convert the results to a JSON object using a predefined schema.\",\n",
    "    backstory=\"You are an agent who is expert in processing PDFs by extracting texts from tables from the PDF {pdf_path}. You are renowned for your ability to extract text from tables which is in PDFs and convert the extracted text to a JSON object using a predefined schema {predefined_schema}. You are an expert in using text extraction tools to extract text from the tables. You are best in your field because you apply the most effective techniques to capture every text which is in the table exactly as it appears.\",\n",
    "    allow_delegation=True,  # This lets the agent delegate if needed\n",
    "    verbose=True,\n",
    "    tools=[pdf_tool]  # Attach your custom tool here\n",
    ")\n"
   ]
  },
  {
   "cell_type": "code",
   "execution_count": null,
   "id": "c645f5d0",
   "metadata": {},
   "outputs": [],
   "source": [
    "table_text_extraction_task = Task(\n",
    "    description=\"Process the provided PDF file to extract texts which are inside the table and return a JSON object with the extracted text.\",\n",
    "    expected_output=\"A JSON object containing the extracted texts which are inside the table from PDF mapped with the {predefined_schema}.\",\n",
    "    output_file=\"extracted_text.json\",  # Optional: output file to store results\n",
    "    agent=table_text_extraction_agent,\n",
    "    tools=[pdf_tool]  # Ensure the tool is available for the task\n",
    ")"
   ]
  },
  {
   "cell_type": "code",
   "execution_count": null,
   "id": "b6481ad8",
   "metadata": {},
   "outputs": [],
   "source": [
    "table_crew = Crew(\n",
    "    agents=[table_text_extraction_agent],\n",
    "    tasks=[table_text_extraction_task],\n",
    "    verbose=True\n",
    ")"
   ]
  },
  {
   "cell_type": "code",
   "execution_count": null,
   "id": "88739547",
   "metadata": {},
   "outputs": [],
   "source": [
    "table_text_details={\n",
    "    \"pdf_path\": pdf_path,\n",
    "    # \"images_path\": output_folder,\n",
    "    \"predefined_schema\": predefined_schema\n",
    "    # \"extracted_text\": \"extracted_text.json\"\n",
    "}"
   ]
  },
  {
   "cell_type": "code",
   "execution_count": null,
   "id": "d6b32ff2",
   "metadata": {},
   "outputs": [],
   "source": [
    "result = table_crew.kickoff(inputs=table_text_details)"
   ]
  }
 ],
 "metadata": {
  "language_info": {
   "name": "python"
  }
 },
 "nbformat": 4,
 "nbformat_minor": 5
}
